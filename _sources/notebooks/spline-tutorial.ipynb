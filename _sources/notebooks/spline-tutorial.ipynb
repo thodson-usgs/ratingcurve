{
 "cells": [
  {
   "cell_type": "markdown",
   "metadata": {},
   "source": [
    "# Natural Splines\n",
    "\n",
    "Splines are flexible functions that can be used to fit rating curves.\n",
    "In fact, the multi-segment power law is a form of linear spline,\n",
    "but other types of spline can be used as well.\n",
    "One alternative is the natural spline.\n",
    "They have the advantage of being faster to fit,\n",
    "but their form is less constrained than the segmented power law.\n",
    "As a result, natural splines may produce strange results, particularly with small datasets."
   ]
  },
  {
   "cell_type": "code",
   "execution_count": null,
   "metadata": {},
   "outputs": [],
   "source": [
    "%load_ext autoreload\n",
    "%autoreload 2\n",
    "\n",
    "import pymc as pm\n",
    "import arviz as az\n",
    "from ratingcurve.ratings import PowerLawRating, SplineRating\n",
    "\n",
    "import numpy as np\n",
    "\n",
    "from ratingcurve import data\n",
    "data.list()"
   ]
  },
  {
   "cell_type": "markdown",
   "metadata": {},
   "source": [
    "##  Green River\n",
    "In practice splines can work quite well, particularly for simpler ratings.\n",
    "Here is an example showing a natural spline fit to the Green River dataset."
   ]
  },
  {
   "cell_type": "code",
   "execution_count": null,
   "metadata": {},
   "outputs": [],
   "source": [
    "df = data.load('green channel')\n",
    "\n",
    "spline = SplineRating(df=8)"
   ]
  },
  {
   "cell_type": "code",
   "execution_count": null,
   "metadata": {},
   "outputs": [],
   "source": [
    "# converges much faster than the power law\n",
    "trace = spline.fit(q=df['q'],\n",
    "                   h=df['stage'],\n",
    "                   q_sigma=df['q_sigma'],\n",
    "                   n=70_000)\n",
    "\n",
    "spline.plot()"
   ]
  },
  {
   "cell_type": "markdown",
   "metadata": {},
   "source": [
    "## Simulated Rating"
   ]
  },
  {
   "cell_type": "code",
   "execution_count": null,
   "metadata": {},
   "outputs": [],
   "source": [
    "sim_df = data.load('3-segment simulated')\n",
    "\n",
    "# subsample the simulated rating curve\n",
    "n_sample = 30\n",
    "df = sim_df.sample(n_sample, random_state=12345)\n",
    "\n",
    "ax = sim_df.plot(x='q', y='stage', color='gray', ls='-', legend=False)\n",
    "df.plot.scatter(x='q', y='stage', marker='o', color='blue', ax=ax)\n",
    "ax.set_xlabel(\"Discharge (cfs)\")\n",
    "ax.set_ylabel(\"Stage (ft)\")"
   ]
  },
  {
   "cell_type": "code",
   "execution_count": null,
   "metadata": {},
   "outputs": [],
   "source": [
    "spline = SplineRating(df=10)"
   ]
  },
  {
   "cell_type": "code",
   "execution_count": null,
   "metadata": {},
   "outputs": [],
   "source": [
    "trace = spline.fit(q=df['q'],\n",
    "                   h=df['stage'],\n",
    "                   n=100_000)\n",
    "\n",
    "spline.plot()"
   ]
  },
  {
   "cell_type": "markdown",
   "metadata": {},
   "source": [
    "### Excercise \n",
    "Splines can give unexpectedly poor results.\n",
    "Experiment with the following:\n",
    "1. Try changing the random state: `sim_df.sample(n=30, random_state=771)`  \n",
    "1. Rerun with `n=200`. The fit has improved, but the uncertainty is unreasonably high.\n",
    "2. Rerun with more degrees of freedon (`df=30`) in `SplineRating()`, and observe how the uncertainty changes. "
   ]
  },
  {
   "cell_type": "code",
   "execution_count": null,
   "metadata": {},
   "outputs": [],
   "source": [
    "%load_ext watermark\n",
    "%watermark -n -u -v -iv -w -p pytensor,xarray"
   ]
  }
 ],
 "metadata": {
  "kernelspec": {
   "display_name": "Python 3 (ipykernel)",
   "language": "python",
   "name": "python3"
  },
  "language_info": {
   "codemirror_mode": {
    "name": "ipython",
    "version": 3
   },
   "file_extension": ".py",
   "mimetype": "text/x-python",
   "name": "python",
   "nbconvert_exporter": "python",
   "pygments_lexer": "ipython3",
   "version": "3.10.12"
  }
 },
 "nbformat": 4,
 "nbformat_minor": 4
}
