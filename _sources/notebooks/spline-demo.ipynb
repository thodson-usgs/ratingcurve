{
 "cells": [
  {
   "cell_type": "markdown",
   "metadata": {},
   "source": [
    "## Spline demo\n",
    "[![Open In Colab](https://colab.research.google.com/assets/colab-badge.svg)](https://colab.research.google.com/github/thodson-usgs/ratingcurve/blob/master/notebooks/spline-demo.ipynb)  \n",
    "\n",
    "Splines are another approach to fitting stage-discharge rating curves.\n",
    "They have the advantage of being very easy (fast) to fit,\n",
    "but their form is less constrained than the segmented power law.\n",
    "As a result, splines may produce strange results, particularly with small datasets."
   ]
  },
  {
   "cell_type": "code",
   "execution_count": null,
   "metadata": {},
   "outputs": [],
   "source": [
    "%load_ext autoreload\n",
    "%autoreload 2\n",
    "\n",
    "import pymc as pm\n",
    "import arviz as az\n",
    "from ratingcurve.ratingmodel import PowerLawRating, SplineRating\n",
    "\n",
    "import numpy as np\n",
    "\n",
    "from ratingcurve import data\n",
    "data.list()"
   ]
  },
  {
   "cell_type": "code",
   "execution_count": null,
   "metadata": {},
   "outputs": [],
   "source": [
    "df = data.load('green channel')\n",
    "\n",
    "spline_rating = SplineRating(q=df['q'],\n",
    "                             h=df['stage'],\n",
    "                             q_sigma=df['q_sigma'],\n",
    "                             df=8)"
   ]
  },
  {
   "cell_type": "code",
   "execution_count": null,
   "metadata": {},
   "outputs": [],
   "source": [
    "# requires fewer iterations than power law\n",
    "with spline_rating:\n",
    "    mean_field = pm.fit(method='advi', n=70_000)\n",
    "    trace = mean_field.sample(5000)\n",
    "\n",
    "spline_rating.plot(trace)"
   ]
  },
  {
   "cell_type": "markdown",
   "metadata": {},
   "source": [
    "# Spline with simulated data"
   ]
  },
  {
   "cell_type": "code",
   "execution_count": null,
   "metadata": {},
   "outputs": [],
   "source": [
    "sim_df = data.load('3-segment simulated')\n",
    "\n",
    "# subsample the simulated rating curve\n",
    "n = 30\n",
    "df = sim_df.sample(n)\n",
    "\n",
    "ax = sim_df.plot(x='q', y='stage', color='gray', ls='-', legend=False)\n",
    "df.plot.scatter(x='q', y='stage', marker='o', color='blue', ax=ax)\n",
    "ax.set_xlabel(\"Discharge (cfs)\")\n",
    "ax.set_ylabel(\"Stage (ft)\")"
   ]
  },
  {
   "cell_type": "code",
   "execution_count": null,
   "metadata": {},
   "outputs": [],
   "source": [
    "spline_rating = SplineRating(q=df['q'],\n",
    "                             h=df['stage'],\n",
    "                             df=10)"
   ]
  },
  {
   "cell_type": "code",
   "execution_count": null,
   "metadata": {},
   "outputs": [],
   "source": [
    "with spline_rating:\n",
    "    mean_field = pm.fit(method='advi', n=100_000)\n",
    "    trace = mean_field.sample(5000)\n",
    "\n",
    "spline_rating.plot(trace)"
   ]
  },
  {
   "cell_type": "markdown",
   "metadata": {},
   "source": [
    "\n",
    "### Excercise \n",
    "Splines can give unexpectedly poor results.\n",
    "For example, try \n",
    "`sim_df.sample(n=30, random_state=771)`  "
   ]
  },
  {
   "cell_type": "markdown",
   "metadata": {},
   "source": [
    "# Spline versus power law"
   ]
  },
  {
   "cell_type": "code",
   "execution_count": null,
   "metadata": {},
   "outputs": [],
   "source": [
    "# TODO"
   ]
  }
 ],
 "metadata": {
  "kernelspec": {
   "display_name": "",
   "name": ""
  },
  "language_info": {
   "name": "python"
  }
 },
 "nbformat": 4,
 "nbformat_minor": 4
}
