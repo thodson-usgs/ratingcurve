{
 "cells": [
  {
   "cell_type": "markdown",
   "id": "b3a9e480-3cae-4225-b4a7-aa86520c2825",
   "metadata": {},
   "source": [
    "# Model evaluation\n",
    "In some cases, we may not know the number of segments or we may wish to compare a power law against other types of rating models.\n",
    "For these cases, we can use information criteria to select the best model."
   ]
  },
  {
   "cell_type": "code",
   "execution_count": 1,
   "id": "759ca393-1eff-40ec-9bf4-ac1587b89021",
   "metadata": {},
   "outputs": [],
   "source": [
    "# load tutorial data\n",
    "from ratingcurve import data\n",
    "%load_ext autoreload\n",
    "%autoreload 2\n",
    "\n",
    "import pymc as pm\n",
    "import arviz as az\n",
    "from ratingcurve.ratingmodel import PowerLawRating\n",
    "\n",
    "from ratingcurve import data\n",
    "\n",
    "df = data.load('green channel')"
   ]
  },
  {
   "cell_type": "markdown",
   "id": "5ac37f02-d8bc-43a3-897f-7706d7f3ca45",
   "metadata": {},
   "source": [
    "Fit the data to ratings with 1 to 4 segments and determine which is best."
   ]
  },
  {
   "cell_type": "code",
   "execution_count": 2,
   "id": "5ed05686-8f71-4f92-b66a-9b87270bf497",
   "metadata": {},
   "outputs": [
    {
     "name": "stderr",
     "output_type": "stream",
     "text": [
      "Finished [100%]: Average Loss = -36.637\n",
      "Finished [100%]: Average Loss = -45.044\n",
      "Finished [100%]: Average Loss = -39.748\n",
      "Finished [100%]: Average Loss = -30.945\n"
     ]
    }
   ],
   "source": [
    "%%capture\n",
    "# OUtput supressed, this will print \"Finished\" after running each of the four models\n",
    "\n",
    "segments = [1, 2, 3, 4]\n",
    "traces = []\n",
    "for segment in segments:\n",
    "    print(segment)\n",
    "    powerrating = PowerLawRating(q=df['q'],\n",
    "                             h=df['stage'], \n",
    "                             q_sigma=df['q_sigma'],\n",
    "                             segments=segment,\n",
    "                             prior={'distribution':'uniform'})\n",
    "    with powerrating:\n",
    "            mean_field = pm.fit(method='advi', n=150_000)\n",
    "            trace = mean_field.sample(5000)\n",
    "            traces.append(pm.compute_log_likelihood(trace)) # Add arg to compute log likelihood"
   ]
  },
  {
   "cell_type": "markdown",
   "id": "e721af24-443f-4599-99f9-7c118b671333",
   "metadata": {},
   "source": [
    "now use `arviz.compare` to format the output"
   ]
  },
  {
   "cell_type": "code",
   "execution_count": 3,
   "id": "17acf06c-3508-4f75-a06e-d6f8f4f96a0e",
   "metadata": {},
   "outputs": [
    {
     "data": {
      "text/html": [
       "<div>\n",
       "<style scoped>\n",
       "    .dataframe tbody tr th:only-of-type {\n",
       "        vertical-align: middle;\n",
       "    }\n",
       "\n",
       "    .dataframe tbody tr th {\n",
       "        vertical-align: top;\n",
       "    }\n",
       "\n",
       "    .dataframe thead th {\n",
       "        text-align: right;\n",
       "    }\n",
       "</style>\n",
       "<table border=\"1\" class=\"dataframe\">\n",
       "  <thead>\n",
       "    <tr style=\"text-align: right;\">\n",
       "      <th></th>\n",
       "      <th>rank</th>\n",
       "      <th>elpd_waic</th>\n",
       "      <th>p_waic</th>\n",
       "      <th>elpd_diff</th>\n",
       "      <th>weight</th>\n",
       "      <th>se</th>\n",
       "      <th>dse</th>\n",
       "      <th>warning</th>\n",
       "      <th>scale</th>\n",
       "    </tr>\n",
       "  </thead>\n",
       "  <tbody>\n",
       "    <tr>\n",
       "      <th>2 segment</th>\n",
       "      <td>0</td>\n",
       "      <td>71.676817</td>\n",
       "      <td>6.716892</td>\n",
       "      <td>0.000000</td>\n",
       "      <td>1.000000e+00</td>\n",
       "      <td>3.774308</td>\n",
       "      <td>0.000000</td>\n",
       "      <td>True</td>\n",
       "      <td>log</td>\n",
       "    </tr>\n",
       "    <tr>\n",
       "      <th>3 segment</th>\n",
       "      <td>1</td>\n",
       "      <td>68.701477</td>\n",
       "      <td>9.912723</td>\n",
       "      <td>2.975340</td>\n",
       "      <td>0.000000e+00</td>\n",
       "      <td>4.516350</td>\n",
       "      <td>3.546537</td>\n",
       "      <td>True</td>\n",
       "      <td>log</td>\n",
       "    </tr>\n",
       "    <tr>\n",
       "      <th>4 segment</th>\n",
       "      <td>2</td>\n",
       "      <td>57.744562</td>\n",
       "      <td>15.794742</td>\n",
       "      <td>13.932255</td>\n",
       "      <td>0.000000e+00</td>\n",
       "      <td>8.108971</td>\n",
       "      <td>7.458791</td>\n",
       "      <td>True</td>\n",
       "      <td>log</td>\n",
       "    </tr>\n",
       "    <tr>\n",
       "      <th>1 segment</th>\n",
       "      <td>3</td>\n",
       "      <td>53.445265</td>\n",
       "      <td>4.588826</td>\n",
       "      <td>18.231552</td>\n",
       "      <td>3.463896e-13</td>\n",
       "      <td>3.313198</td>\n",
       "      <td>5.063585</td>\n",
       "      <td>True</td>\n",
       "      <td>log</td>\n",
       "    </tr>\n",
       "  </tbody>\n",
       "</table>\n",
       "</div>"
      ],
      "text/plain": [
       "           rank  elpd_waic     p_waic  elpd_diff        weight        se  \\\n",
       "2 segment     0  71.676817   6.716892   0.000000  1.000000e+00  3.774308   \n",
       "3 segment     1  68.701477   9.912723   2.975340  0.000000e+00  4.516350   \n",
       "4 segment     2  57.744562  15.794742  13.932255  0.000000e+00  8.108971   \n",
       "1 segment     3  53.445265   4.588826  18.231552  3.463896e-13  3.313198   \n",
       "\n",
       "                dse  warning scale  \n",
       "2 segment  0.000000     True   log  \n",
       "3 segment  3.546537     True   log  \n",
       "4 segment  7.458791     True   log  \n",
       "1 segment  5.063585     True   log  "
      ]
     },
     "execution_count": 3,
     "metadata": {},
     "output_type": "execute_result"
    }
   ],
   "source": [
    "import warnings; warnings.filterwarnings('ignore')\n",
    "\n",
    "compare_dict = {f'{i} segment': traces[i-1] for i in segments}\n",
    "az.compare(compare_dict, ic='waic')"
   ]
  },
  {
   "cell_type": "markdown",
   "id": "e6fd93c5-a2e8-4087-be47-60d780634233",
   "metadata": {},
   "source": [
    "As we expected, the 2-segment model was ranked highest."
   ]
  }
 ],
 "metadata": {
  "kernelspec": {
   "display_name": "ratingcurve",
   "language": "python",
   "name": "ratingcurve"
  },
  "language_info": {
   "codemirror_mode": {
    "name": "ipython",
    "version": 3
   },
   "file_extension": ".py",
   "mimetype": "text/x-python",
   "name": "python",
   "nbconvert_exporter": "python",
   "pygments_lexer": "ipython3",
   "version": "3.11.0"
  }
 },
 "nbformat": 4,
 "nbformat_minor": 5
}
