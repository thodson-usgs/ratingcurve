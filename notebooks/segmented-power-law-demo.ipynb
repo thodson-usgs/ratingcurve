{
 "cells": [
  {
   "cell_type": "markdown",
   "id": "6383be96-4086-48dd-bad4-6a59e5b1398d",
   "metadata": {},
   "source": [
    "# Fitting a Stage-Discharge Rating\n",
    "[![Open In Colab](https://colab.research.google.com/assets/colab-badge.svg)](https://colab.research.google.com/github/thodson-usgs/ratingcurve/blob/master/notebooks/segmented-power-law-demo.ipynb)  \n",
    "\n",
    "## Segmented power-law rating\n",
    "There are several approaches to fitting a stage-discharge rating curve. \n",
    "The first section of this notebook demonstrates the classic approach, \n",
    "which is to use a segmented power law.\n",
    "\n",
    "The segmented power law is defined as:\n",
    "\n",
    "\\begin{align}\n",
    "    \\log(Q) = a + \\sum_{i=1}^{n} b_i \\log(x - x_{o,i}) H_i(x - x_{o,i})\n",
    "\\end{align}\n",
    "where\n",
    "$Q$ is a vector discharge, \\\n",
    "$n$ is the number of breakpoints in the rating, \\\n",
    "$a$ and $b$ are model parameters, \\\n",
    "$x$ is a vector of stage observations, \\\n",
    "$x_o$ is a vector of breakpoints, and \\\n",
    "$H$ is the Heaviside function. \n",
    "\n",
    "In a standard linear model $b$ represents the slope of the function with respect the input.\n",
    "In the segmented power law $b_o$ is the slope and each subsequent $b_i$ are adjustment to the base slope for each segment.\n",
    "\n",
    "The later part of notebook demonstrates fitting a rating using a cubic spline."
   ]
  },
  {
   "cell_type": "code",
   "execution_count": 1,
   "id": "d23da995-0d8c-4df5-bceb-f9ea29c5034d",
   "metadata": {
    "id": "d23da995-0d8c-4df5-bceb-f9ea29c5034d"
   },
   "outputs": [],
   "source": [
    "# # Only run this cell to setup Google Colab. It will take a minute.\n",
    "# %%capture\n",
    "# # Specific repo version used in this notebook\n",
    "# !pip install pymc==4.1.1\n",
    "#\n",
    "# # Colab needs this\n",
    "# %env MKL_THREADING_LAYER=GNU\n",
    "#\n",
    "# # install ratingcurve library\n",
    "# !pip install git+https://github.com/thodson-usgs/ratingcurve.git"
   ]
  },
  {
   "cell_type": "code",
   "execution_count": 1,
   "id": "806409d6-616f-4ecf-a2a7-e5e42744c686",
   "metadata": {
    "id": "806409d6-616f-4ecf-a2a7-e5e42744c686"
   },
   "outputs": [
    {
     "name": "stderr",
     "output_type": "stream",
     "text": [
      "/home/thodson/.mambaforge/envs/ratingcurve-old/lib/python3.10/site-packages/arviz/data/io_pymc3.py:9: UserWarning: Unbuilt egg for ratingcurve [unknown version] (/mnt/c/Users/thodson/OneDrive - DOI/Desktop/Projects/software-release/ratingcurve/src)\n",
      "  pymc3_version = pkg_resources.get_distribution(\"pymc3\").version\n"
     ]
    }
   ],
   "source": [
    "%load_ext autoreload\n",
    "%autoreload 2\n",
    "\n",
    "import pymc as pm\n",
    "import arviz as az\n",
    "from ratingcurve.ratingmodel import SegmentedRatingModel, SplineRatingModel"
   ]
  },
  {
   "cell_type": "markdown",
   "id": "20cebce1-1a16-4367-ab86-2d42147a0437",
   "metadata": {
    "id": "68990119-0f7d-4033-8968-0361b655647a"
   },
   "source": [
    "## Load Data"
   ]
  },
  {
   "cell_type": "markdown",
   "id": "96106967-41ff-4189-a751-47b34966147b",
   "metadata": {},
   "source": [
    "and load a specific dataset."
   ]
  },
  {
   "cell_type": "code",
   "execution_count": 2,
   "id": "9a75a0ac-877b-4b19-8b33-236b1a629875",
   "metadata": {
    "id": "9a75a0ac-877b-4b19-8b33-236b1a629875"
   },
   "outputs": [
    {
     "data": {
      "text/html": [
       "<div>\n",
       "<style scoped>\n",
       "    .dataframe tbody tr th:only-of-type {\n",
       "        vertical-align: middle;\n",
       "    }\n",
       "\n",
       "    .dataframe tbody tr th {\n",
       "        vertical-align: top;\n",
       "    }\n",
       "\n",
       "    .dataframe thead th {\n",
       "        text-align: right;\n",
       "    }\n",
       "</style>\n",
       "<table border=\"1\" class=\"dataframe\">\n",
       "  <thead>\n",
       "    <tr style=\"text-align: right;\">\n",
       "      <th></th>\n",
       "      <th>datetime</th>\n",
       "      <th>stage</th>\n",
       "      <th>q</th>\n",
       "      <th>q_sigma</th>\n",
       "    </tr>\n",
       "  </thead>\n",
       "  <tbody>\n",
       "    <tr>\n",
       "      <th>0</th>\n",
       "      <td>2020-05-21 14:13:41 [UTC-07:00]</td>\n",
       "      <td>7.04</td>\n",
       "      <td>12199.342</td>\n",
       "      <td>199.172931</td>\n",
       "    </tr>\n",
       "    <tr>\n",
       "      <th>1</th>\n",
       "      <td>2020-04-16 14:55:31 [UTC-07:00]</td>\n",
       "      <td>4.43</td>\n",
       "      <td>4921.953</td>\n",
       "      <td>95.425619</td>\n",
       "    </tr>\n",
       "    <tr>\n",
       "      <th>2</th>\n",
       "      <td>2020-03-04 13:54:10 [UTC-07:00]</td>\n",
       "      <td>2.99</td>\n",
       "      <td>2331.665</td>\n",
       "      <td>61.860500</td>\n",
       "    </tr>\n",
       "    <tr>\n",
       "      <th>3</th>\n",
       "      <td>2020-03-04 13:16:51 [UTC-07:00]</td>\n",
       "      <td>2.94</td>\n",
       "      <td>2289.220</td>\n",
       "      <td>47.886745</td>\n",
       "    </tr>\n",
       "    <tr>\n",
       "      <th>4</th>\n",
       "      <td>2020-01-23 11:04:32 [UTC-07:00]</td>\n",
       "      <td>2.96</td>\n",
       "      <td>2408.210</td>\n",
       "      <td>99.522964</td>\n",
       "    </tr>\n",
       "  </tbody>\n",
       "</table>\n",
       "</div>"
      ],
      "text/plain": [
       "                          datetime  stage          q     q_sigma\n",
       "0  2020-05-21 14:13:41 [UTC-07:00]   7.04  12199.342  199.172931\n",
       "1  2020-04-16 14:55:31 [UTC-07:00]   4.43   4921.953   95.425619\n",
       "2  2020-03-04 13:54:10 [UTC-07:00]   2.99   2331.665   61.860500\n",
       "3  2020-03-04 13:16:51 [UTC-07:00]   2.94   2289.220   47.886745\n",
       "4  2020-01-23 11:04:32 [UTC-07:00]   2.96   2408.210   99.522964"
      ]
     },
     "execution_count": 2,
     "metadata": {},
     "output_type": "execute_result"
    }
   ],
   "source": [
    "import pandas as pd\n",
    "df = pd.read_csv('../data/green_channel.csv')\n",
    "df.head()"
   ]
  },
  {
   "cell_type": "code",
   "execution_count": 3,
   "id": "4a60c122-9214-4100-a2f2-aae7d89d7dc3",
   "metadata": {},
   "outputs": [
    {
     "data": {
      "text/plain": [
       "Text(0, 0.5, 'Stage (ft)')"
      ]
     },
     "execution_count": 3,
     "metadata": {},
     "output_type": "execute_result"
    },
    {
     "data": {
      "image/png": "[encoded data removed]",
      "text/plain": [
       "<Figure size 640x480 with 1 Axes>"
      ]
     },
     "metadata": {},
     "output_type": "display_data"
    }
   ],
   "source": [
    "# plot the data\n",
    "ax = df.plot.scatter(x='q', y='stage', marker='o')\n",
    "ax.set_xlabel(\"Discharge (cfs)\")\n",
    "ax.set_ylabel(\"Stage (ft)\")"
   ]
  },
  {
   "cell_type": "markdown",
   "id": "0e1ccef0-0d5e-4677-a0bb-6eb257a6be62",
   "metadata": {
    "id": "0e1ccef0-0d5e-4677-a0bb-6eb257a6be62"
   },
   "source": [
    "## Setup model\n",
    "Setup a rating model. This make take a minute while the model compiles."
   ]
  },
  {
   "cell_type": "code",
   "execution_count": 7,
   "id": "c26b75e4-d127-43e3-adec-2ee57a5aba7e",
   "metadata": {
    "id": "c26b75e4-d127-43e3-adec-2ee57a5aba7e"
   },
   "outputs": [],
   "source": [
    "segments = 2\n",
    "powerrating = SegmentedRatingModel(q=df['q'],\n",
    "                                   h=df['stage'], \n",
    "                                   q_sigma=df['q_sigma'],\n",
    "                                   segments=segments,\n",
    "                                   prior={'distribution':'uniform'})"
   ]
  },
  {
   "cell_type": "markdown",
   "id": "a45904c6-aa62-449c-8830-babce7667767",
   "metadata": {},
   "source": [
    "then fit the model using variational inference (this will be slower on the first run). Set the number of iterations `n` such that the model stops after the loss stops decreasing."
   ]
  },
  {
   "cell_type": "code",
   "execution_count": 8,
   "id": "95bf05c6-b219-45c6-bb83-9eb225d45860",
   "metadata": {},
   "outputs": [
    {
     "data": {
      "text/html": [
       "\n",
       "<style>\n",
       "    /* Turns off some styling */\n",
       "    progress {\n",
       "        /* gets rid of default border in Firefox and Opera. */\n",
       "        border: none;\n",
       "        /* Needs to be in here for Safari polyfill so background images work as expected. */\n",
       "        background-size: auto;\n",
       "    }\n",
       "    progress:not([value]), progress:not([value])::-webkit-progress-bar {\n",
       "        background: repeating-linear-gradient(45deg, #7e7e7e, #7e7e7e 10px, #5c5c5c 10px, #5c5c5c 20px);\n",
       "    }\n",
       "    .progress-bar-interrupted, .progress-bar-interrupted::-webkit-progress-bar {\n",
       "        background: #F44336;\n",
       "    }\n",
       "</style>\n"
      ],
      "text/plain": [
       "<IPython.core.display.HTML object>"
      ]
     },
     "metadata": {},
     "output_type": "display_data"
    },
    {
     "data": {
      "text/html": [
       "\n",
       "    <div>\n",
       "      <progress value='150000' class='' max='150000' style='width:300px; height:20px; vertical-align: middle;'></progress>\n",
       "      100.00% [150000/150000 00:18&lt;00:00 Average Loss = -44.747]\n",
       "    </div>\n",
       "    "
      ],
      "text/plain": [
       "<IPython.core.display.HTML object>"
      ]
     },
     "metadata": {},
     "output_type": "display_data"
    },
    {
     "name": "stderr",
     "output_type": "stream",
     "text": [
      "Finished [100%]: Average Loss = -44.75\n"
     ]
    }
   ],
   "source": [
    "with powerrating:\n",
    "    method = 'advi'\n",
    "    mean_field = pm.fit(method=method, n=150_000)\n",
    "    trace = mean_field.sample(5000)"
   ]
  },
  {
   "cell_type": "markdown",
   "id": "669f1afa-43a5-45c1-b36b-d33ba119a5ac",
   "metadata": {},
   "source": [
    "Once fit, we can evaluate the model by plotting the rating curve."
   ]
  },
  {
   "cell_type": "code",
   "execution_count": 9,
   "id": "bb996661-ae3a-4f15-af0a-762386b2b86c",
   "metadata": {},
   "outputs": [
    {
     "name": "stderr",
     "output_type": "stream",
     "text": [
      "/mnt/c/Users/thodson/OneDrive - DOI/Desktop/Projects/software-release/ratingcurve/src/ratingcurve/ratingmodel.py:212: RuntimeWarning: invalid value encountered in log\n",
      "  b1 = np.where(h_tile<=hs, clips, np.log(h_tile-h0))\n"
     ]
    },
    {
     "data": {
      "image/png": "[encoded data removed]",
      "text/plain": [
       "<Figure size 500x500 with 1 Axes>"
      ]
     },
     "metadata": {},
     "output_type": "display_data"
    }
   ],
   "source": [
    "powerrating.plot(trace)"
   ]
  },
  {
   "cell_type": "code",
   "execution_count": null,
   "id": "3040d35d-698a-4731-95df-954d80e02ede",
   "metadata": {},
   "outputs": [],
   "source": []
  },
  {
   "cell_type": "markdown",
   "id": "5f39d6e1-8145-44d3-b126-dd05e2c67808",
   "metadata": {},
   "source": [
    "or as a table of stage-discharge values."
   ]
  },
  {
   "cell_type": "code",
   "execution_count": 10,
   "id": "cdef01af-eb57-450e-9479-5c5e9174a1fa",
   "metadata": {},
   "outputs": [
    {
     "name": "stderr",
     "output_type": "stream",
     "text": [
      "/mnt/c/Users/thodson/OneDrive - DOI/Desktop/Projects/software-release/ratingcurve/src/ratingcurve/ratingmodel.py:212: RuntimeWarning: invalid value encountered in log\n",
      "  b1 = np.where(h_tile<=hs, clips, np.log(h_tile-h0))\n"
     ]
    },
    {
     "data": {
      "text/html": [
       "<div>\n",
       "<style scoped>\n",
       "    .dataframe tbody tr th:only-of-type {\n",
       "        vertical-align: middle;\n",
       "    }\n",
       "\n",
       "    .dataframe tbody tr th {\n",
       "        vertical-align: top;\n",
       "    }\n",
       "\n",
       "    .dataframe thead th {\n",
       "        text-align: right;\n",
       "    }\n",
       "</style>\n",
       "<table border=\"1\" class=\"dataframe\">\n",
       "  <thead>\n",
       "    <tr style=\"text-align: right;\">\n",
       "      <th></th>\n",
       "      <th>discharge</th>\n",
       "      <th>stage</th>\n",
       "      <th>sigma</th>\n",
       "    </tr>\n",
       "  </thead>\n",
       "  <tbody>\n",
       "    <tr>\n",
       "      <th>0</th>\n",
       "      <td>1375.79</td>\n",
       "      <td>2.21</td>\n",
       "      <td>1.0116</td>\n",
       "    </tr>\n",
       "    <tr>\n",
       "      <th>1</th>\n",
       "      <td>1388.36</td>\n",
       "      <td>2.22</td>\n",
       "      <td>1.0116</td>\n",
       "    </tr>\n",
       "    <tr>\n",
       "      <th>2</th>\n",
       "      <td>1400.93</td>\n",
       "      <td>2.23</td>\n",
       "      <td>1.0115</td>\n",
       "    </tr>\n",
       "    <tr>\n",
       "      <th>3</th>\n",
       "      <td>1413.51</td>\n",
       "      <td>2.24</td>\n",
       "      <td>1.0114</td>\n",
       "    </tr>\n",
       "    <tr>\n",
       "      <th>4</th>\n",
       "      <td>1426.09</td>\n",
       "      <td>2.25</td>\n",
       "      <td>1.0113</td>\n",
       "    </tr>\n",
       "  </tbody>\n",
       "</table>\n",
       "</div>"
      ],
      "text/plain": [
       "   discharge  stage   sigma\n",
       "0    1375.79   2.21  1.0116\n",
       "1    1388.36   2.22  1.0116\n",
       "2    1400.93   2.23  1.0115\n",
       "3    1413.51   2.24  1.0114\n",
       "4    1426.09   2.25  1.0113"
      ]
     },
     "execution_count": 10,
     "metadata": {},
     "output_type": "execute_result"
    }
   ],
   "source": [
    "table = powerrating.table(trace)\n",
    "table.head()"
   ]
  },
  {
   "cell_type": "markdown",
   "id": "44150e09-69f1-49e4-819c-ff12f9ac3ced",
   "metadata": {
    "id": "ad003463-d23b-4292-8863-1dc52315fe5c"
   },
   "source": [
    "## Exercise\n",
    "What happens if we choose the wrong number of segments? \n",
    "Increase the number of segments by one and rerun the model."
   ]
  },
  {
   "cell_type": "markdown",
   "id": "84cc1872-6e76-4e32-83bc-f3e50e42eef5",
   "metadata": {
    "id": "84cc1872-6e76-4e32-83bc-f3e50e42eef5"
   },
   "source": [
    "## Simulated Example\n",
    "This example uses a simulated rating curve, which allows you to test how different sampling schemes affect the rating curve fit.\n",
    "\n",
    "First, open the `simulated_rating` tutorial dataset."
   ]
  },
  {
   "cell_type": "code",
   "execution_count": 12,
   "id": "0160c825-a7ba-47f1-995c-a6695e968a2c",
   "metadata": {},
   "outputs": [
    {
     "name": "stdout",
     "output_type": "stream",
     "text": [
      "The simulated rating contains 763 observations\n"
     ]
    }
   ],
   "source": [
    "import pandas as pd\n",
    "sim_df = pd.read_csv('../data/simulated_rating.csv')\n",
    "print('The simulated rating contains {} observations'.format(len(sim_df)))"
   ]
  },
  {
   "cell_type": "markdown",
   "id": "8e721b15-4ada-48a8-b778-692ce9eb9e08",
   "metadata": {},
   "source": [
    "This rating contains observations of every 0.01 inch. increment in stage, which is much more than we'd have for a natural rating.\n",
    "Try sampling to `n=15` or `n=30` and see how that affects the model fit."
   ]
  },
  {
   "cell_type": "code",
   "execution_count": 13,
   "id": "bc06f4ff-7855-42db-bc15-2726dc99da7b",
   "metadata": {
    "id": "bc06f4ff-7855-42db-bc15-2726dc99da7b",
    "outputId": "f4413937-f75c-4043-f1c7-236d3544d611"
   },
   "outputs": [
    {
     "data": {
      "text/plain": [
       "Text(0, 0.5, 'Stage (ft)')"
      ]
     },
     "execution_count": 13,
     "metadata": {},
     "output_type": "execute_result"
    },
    {
     "data": {
      "image/png": "[encoded data removed]",
      "text/plain": [
       "<Figure size 640x480 with 1 Axes>"
      ]
     },
     "metadata": {},
     "output_type": "display_data"
    }
   ],
   "source": [
    "# subsample the simulated rating curve\n",
    "n = 30\n",
    "df = sim_df.sample(n, random_state=12345)\n",
    "\n",
    "ax = sim_df.plot(x='q', y='stage', color='grey', ls='-', legend=False)\n",
    "df.plot.scatter(x='q', y='stage', marker='o', color='blue', ax=ax)\n",
    "ax.set_xlabel(\"Discharge (cfs)\")\n",
    "ax.set_ylabel(\"Stage (ft)\")"
   ]
  },
  {
   "cell_type": "markdown",
   "id": "1a66d197-4fe3-4d5b-b4cd-46a36497a760",
   "metadata": {},
   "source": [
    "Setup a rating model with 3 segments"
   ]
  },
  {
   "cell_type": "code",
   "execution_count": 22,
   "id": "980abb5a-e2a5-46fe-9015-8c613d825957",
   "metadata": {
    "id": "980abb5a-e2a5-46fe-9015-8c613d825957"
   },
   "outputs": [],
   "source": [
    "segments = 3\n",
    "powerrating = SegmentedRatingModel(q=df['q'],\n",
    "                                   h=df['stage'],\n",
    "                                   q_sigma=None,\n",
    "                                   segments=segments,\n",
    "                                   prior={'distribution':'uniform'})"
   ]
  },
  {
   "cell_type": "markdown",
   "id": "3c61bf36-5bb7-4597-a1c0-dd7a491be454",
   "metadata": {},
   "source": [
    "now fit the model using ADVI"
   ]
  },
  {
   "cell_type": "code",
   "execution_count": 23,
   "id": "d40dfddd-8de6-4ba4-b380-f26e4b85594f",
   "metadata": {
    "id": "d40dfddd-8de6-4ba4-b380-f26e4b85594f",
    "outputId": "abc72ca4-8052-476f-9532-40ee902831d3"
   },
   "outputs": [
    {
     "data": {
      "text/html": [
       "\n",
       "<style>\n",
       "    /* Turns off some styling */\n",
       "    progress {\n",
       "        /* gets rid of default border in Firefox and Opera. */\n",
       "        border: none;\n",
       "        /* Needs to be in here for Safari polyfill so background images work as expected. */\n",
       "        background-size: auto;\n",
       "    }\n",
       "    progress:not([value]), progress:not([value])::-webkit-progress-bar {\n",
       "        background: repeating-linear-gradient(45deg, #7e7e7e, #7e7e7e 10px, #5c5c5c 10px, #5c5c5c 20px);\n",
       "    }\n",
       "    .progress-bar-interrupted, .progress-bar-interrupted::-webkit-progress-bar {\n",
       "        background: #F44336;\n",
       "    }\n",
       "</style>\n"
      ],
      "text/plain": [
       "<IPython.core.display.HTML object>"
      ]
     },
     "metadata": {},
     "output_type": "display_data"
    },
    {
     "data": {
      "text/html": [
       "\n",
       "    <div>\n",
       "      <progress value='100000' class='' max='100000' style='width:300px; height:20px; vertical-align: middle;'></progress>\n",
       "      100.00% [100000/100000 00:09&lt;00:00 Average Loss = -50.398]\n",
       "    </div>\n",
       "    "
      ],
      "text/plain": [
       "<IPython.core.display.HTML object>"
      ]
     },
     "metadata": {},
     "output_type": "display_data"
    },
    {
     "name": "stderr",
     "output_type": "stream",
     "text": [
      "Finished [100%]: Average Loss = -50.416\n"
     ]
    }
   ],
   "source": [
    "with powerrating:\n",
    "    method = 'advi'\n",
    "    mean_field = pm.fit(method=method, n=100_000) #increase n as necessary\n",
    "    trace = mean_field.sample(5000)"
   ]
  },
  {
   "cell_type": "markdown",
   "id": "1e48f841-c1d9-4e44-b300-eda0aa613dce",
   "metadata": {},
   "source": [
    "and visualize the results."
   ]
  },
  {
   "cell_type": "code",
   "execution_count": 24,
   "id": "1b7dfa46-4972-4c4c-b009-a146e247df6d",
   "metadata": {},
   "outputs": [
    {
     "name": "stderr",
     "output_type": "stream",
     "text": [
      "/mnt/c/Users/thodson/OneDrive - DOI/Desktop/Projects/software-release/ratingcurve/src/ratingcurve/ratingmodel.py:212: RuntimeWarning: invalid value encountered in log\n",
      "  b1 = np.where(h_tile<=hs, clips, np.log(h_tile-h0))\n"
     ]
    },
    {
     "data": {
      "image/png": "[encoded data removed]",
      "text/plain": [
       "<Figure size 500x500 with 1 Axes>"
      ]
     },
     "metadata": {},
     "output_type": "display_data"
    }
   ],
   "source": [
    "powerrating.plot(trace, None)"
   ]
  },
  {
   "cell_type": "code",
   "execution_count": 25,
   "id": "0b545b5b-e96b-4caf-bc72-c02f34a96e5c",
   "metadata": {
    "id": "0b545b5b-e96b-4caf-bc72-c02f34a96e5c"
   },
   "outputs": [
    {
     "name": "stderr",
     "output_type": "stream",
     "text": [
      "arviz - WARNING - Shape validation failed: input_shape: (1, 5000), minimum_shape: (chains=2, draws=4)\n"
     ]
    },
    {
     "data": {
      "text/html": [
       "<div>\n",
       "<style scoped>\n",
       "    .dataframe tbody tr th:only-of-type {\n",
       "        vertical-align: middle;\n",
       "    }\n",
       "\n",
       "    .dataframe tbody tr th {\n",
       "        vertical-align: top;\n",
       "    }\n",
       "\n",
       "    .dataframe thead th {\n",
       "        text-align: right;\n",
       "    }\n",
       "</style>\n",
       "<table border=\"1\" class=\"dataframe\">\n",
       "  <thead>\n",
       "    <tr style=\"text-align: right;\">\n",
       "      <th></th>\n",
       "      <th>mean</th>\n",
       "      <th>sd</th>\n",
       "      <th>hdi_3%</th>\n",
       "      <th>hdi_97%</th>\n",
       "      <th>mcse_mean</th>\n",
       "      <th>mcse_sd</th>\n",
       "      <th>ess_bulk</th>\n",
       "      <th>ess_tail</th>\n",
       "      <th>r_hat</th>\n",
       "    </tr>\n",
       "  </thead>\n",
       "  <tbody>\n",
       "    <tr>\n",
       "      <th>w[0]</th>\n",
       "      <td>0.969</td>\n",
       "      <td>0.001</td>\n",
       "      <td>0.966</td>\n",
       "      <td>0.971</td>\n",
       "      <td>0.000</td>\n",
       "      <td>0.000</td>\n",
       "      <td>4809.0</td>\n",
       "      <td>4560.0</td>\n",
       "      <td>NaN</td>\n",
       "    </tr>\n",
       "    <tr>\n",
       "      <th>w[1]</th>\n",
       "      <td>0.076</td>\n",
       "      <td>0.004</td>\n",
       "      <td>0.070</td>\n",
       "      <td>0.083</td>\n",
       "      <td>0.000</td>\n",
       "      <td>0.000</td>\n",
       "      <td>4690.0</td>\n",
       "      <td>5023.0</td>\n",
       "      <td>NaN</td>\n",
       "    </tr>\n",
       "    <tr>\n",
       "      <th>w[2]</th>\n",
       "      <td>0.306</td>\n",
       "      <td>0.006</td>\n",
       "      <td>0.294</td>\n",
       "      <td>0.318</td>\n",
       "      <td>0.000</td>\n",
       "      <td>0.000</td>\n",
       "      <td>4786.0</td>\n",
       "      <td>4893.0</td>\n",
       "      <td>NaN</td>\n",
       "    </tr>\n",
       "    <tr>\n",
       "      <th>a</th>\n",
       "      <td>-0.998</td>\n",
       "      <td>0.002</td>\n",
       "      <td>-1.002</td>\n",
       "      <td>-0.995</td>\n",
       "      <td>0.000</td>\n",
       "      <td>0.000</td>\n",
       "      <td>5101.0</td>\n",
       "      <td>4671.0</td>\n",
       "      <td>NaN</td>\n",
       "    </tr>\n",
       "    <tr>\n",
       "      <th>sigma</th>\n",
       "      <td>0.010</td>\n",
       "      <td>0.001</td>\n",
       "      <td>0.007</td>\n",
       "      <td>0.012</td>\n",
       "      <td>0.000</td>\n",
       "      <td>0.000</td>\n",
       "      <td>4857.0</td>\n",
       "      <td>4648.0</td>\n",
       "      <td>NaN</td>\n",
       "    </tr>\n",
       "    <tr>\n",
       "      <th>hs[0, 0]</th>\n",
       "      <td>4.932</td>\n",
       "      <td>0.001</td>\n",
       "      <td>4.930</td>\n",
       "      <td>4.933</td>\n",
       "      <td>0.000</td>\n",
       "      <td>0.000</td>\n",
       "      <td>5113.0</td>\n",
       "      <td>4563.0</td>\n",
       "      <td>NaN</td>\n",
       "    </tr>\n",
       "    <tr>\n",
       "      <th>hs[1, 0]</th>\n",
       "      <td>9.554</td>\n",
       "      <td>0.094</td>\n",
       "      <td>9.381</td>\n",
       "      <td>9.728</td>\n",
       "      <td>0.001</td>\n",
       "      <td>0.001</td>\n",
       "      <td>4783.0</td>\n",
       "      <td>4577.0</td>\n",
       "      <td>NaN</td>\n",
       "    </tr>\n",
       "    <tr>\n",
       "      <th>hs[2, 0]</th>\n",
       "      <td>10.761</td>\n",
       "      <td>0.032</td>\n",
       "      <td>10.700</td>\n",
       "      <td>10.819</td>\n",
       "      <td>0.000</td>\n",
       "      <td>0.000</td>\n",
       "      <td>5177.0</td>\n",
       "      <td>4857.0</td>\n",
       "      <td>NaN</td>\n",
       "    </tr>\n",
       "  </tbody>\n",
       "</table>\n",
       "</div>"
      ],
      "text/plain": [
       "            mean     sd  hdi_3%  hdi_97%  mcse_mean  mcse_sd  ess_bulk  \\\n",
       "w[0]       0.969  0.001   0.966    0.971      0.000    0.000    4809.0   \n",
       "w[1]       0.076  0.004   0.070    0.083      0.000    0.000    4690.0   \n",
       "w[2]       0.306  0.006   0.294    0.318      0.000    0.000    4786.0   \n",
       "a         -0.998  0.002  -1.002   -0.995      0.000    0.000    5101.0   \n",
       "sigma      0.010  0.001   0.007    0.012      0.000    0.000    4857.0   \n",
       "hs[0, 0]   4.932  0.001   4.930    4.933      0.000    0.000    5113.0   \n",
       "hs[1, 0]   9.554  0.094   9.381    9.728      0.001    0.001    4783.0   \n",
       "hs[2, 0]  10.761  0.032  10.700   10.819      0.000    0.000    5177.0   \n",
       "\n",
       "          ess_tail  r_hat  \n",
       "w[0]        4560.0    NaN  \n",
       "w[1]        5023.0    NaN  \n",
       "w[2]        4893.0    NaN  \n",
       "a           4671.0    NaN  \n",
       "sigma       4648.0    NaN  \n",
       "hs[0, 0]    4563.0    NaN  \n",
       "hs[1, 0]    4577.0    NaN  \n",
       "hs[2, 0]    4857.0    NaN  "
      ]
     },
     "execution_count": 25,
     "metadata": {},
     "output_type": "execute_result"
    }
   ],
   "source": [
    "az.summary(trace, var_names=[\"w\", \"a\", \"sigma\", \"hs\"])"
   ]
  },
  {
   "cell_type": "markdown",
   "id": "0519caec-a6f5-4a56-9d53-501d7a06c302",
   "metadata": {
    "id": "0519caec-a6f5-4a56-9d53-501d7a06c302"
   },
   "source": [
    "ADVI typically underestimates uncertainty; NUTS may give better results but will be substantially slower to fit."
   ]
  },
  {
   "cell_type": "code",
   "execution_count": null,
   "id": "effa5602-34f5-45f2-8a38-2373b7efc044",
   "metadata": {},
   "outputs": [],
   "source": [
    "# NUTS example. This may take several minutes, depending on your CPU.\n",
    "# n = 4\n",
    "# with powerrating:\n",
    "#     trace = pm.sample(tune=1500, chains=n, cores=n, target_accept=0.95)\n",
    "\n",
    "# powerrating.plot(trace)"
   ]
  },
  {
   "cell_type": "markdown",
   "id": "c03d8250-16db-4053-9590-616a182cb636",
   "metadata": {},
   "source": [
    "## Spline demo\n",
    "Splines are another approach used to fit a stage-discharge ratings. Splines have the advantage of being very easy (fast) to fit, but their form is less constrained than the segmented power law. As a result, splines may produce strange results, particularly when few data are available."
   ]
  },
  {
   "cell_type": "code",
   "execution_count": null,
   "id": "d5f169d5-bf8c-4642-b3c3-9f9ca97634d1",
   "metadata": {},
   "outputs": [],
   "source": [
    "import numpy as np\n",
    "\n",
    "df = tutorial.open_dataset('green_channel')\n",
    "\n",
    "n_knots = 2\n",
    "knots = np.linspace(2, 13, n_knots)\n",
    "\n",
    "spline_rating = SplineRatingModel(q=df['q'],\n",
    "                                  h=df['stage'],\n",
    "                                  q_sigma=df['q_sigma'],\n",
    "                                  knots=knots)"
   ]
  },
  {
   "cell_type": "code",
   "execution_count": null,
   "id": "05575c2e-5952-473a-9213-29f627487f48",
   "metadata": {},
   "outputs": [],
   "source": [
    "# requires fewer iterations than power law\n",
    "with spline_rating:\n",
    "    method = 'advi'\n",
    "    mean_field = pm.fit(method=method, n=40_000)\n",
    "    trace = mean_field.sample(5000)\n",
    "\n",
    "spline_rating.plot(trace)"
   ]
  },
  {
   "cell_type": "markdown",
   "id": "7808b6d3-cf12-4e06-b02a-09cfb9d26809",
   "metadata": {},
   "source": [
    "In this case, the spline is similar to the power law, but set `n_knots=5`."
   ]
  },
  {
   "cell_type": "markdown",
   "id": "2344448f-71d3-48f4-b68c-c6dded885154",
   "metadata": {},
   "source": [
    "### Spline with simulated data"
   ]
  },
  {
   "cell_type": "code",
   "execution_count": null,
   "id": "178a184f-81b2-41ac-b5bb-ee96cdfe49b1",
   "metadata": {},
   "outputs": [],
   "source": [
    "sim_df = tutorial.open_dataset('simulated_rating')"
   ]
  },
  {
   "cell_type": "code",
   "execution_count": null,
   "id": "d2c69c6a-e57d-4dde-9840-6954bf40d5ab",
   "metadata": {},
   "outputs": [],
   "source": [
    "# subsample the simulated rating curve\n",
    "n = 30\n",
    "df = sim_df.sample(n)\n",
    "\n",
    "ax = sim_df.plot(x='q', y='stage', color='gray', ls='-', legend=False)\n",
    "df.plot.scatter(x='q', y='stage', marker='o', color='blue', ax=ax)\n",
    "ax.set_xlabel(\"Discharge (cfs)\")\n",
    "ax.set_ylabel(\"Stage (ft)\")"
   ]
  },
  {
   "cell_type": "code",
   "execution_count": null,
   "id": "08193514-638a-4cf1-b0ee-f96b07812654",
   "metadata": {},
   "outputs": [],
   "source": [
    "n_knots = 5\n",
    "knots = np.linspace(5, 13, n_knots)\n",
    "\n",
    "spline_rating = SplineRatingModel(q=df['q'],\n",
    "                                  h=df['stage'],\n",
    "                                  knots=knots)"
   ]
  },
  {
   "cell_type": "code",
   "execution_count": null,
   "id": "e0d3daf1-c477-4aae-ac74-1583988545d1",
   "metadata": {},
   "outputs": [],
   "source": [
    "with spline_rating:\n",
    "    method = 'advi'\n",
    "    mean_field = pm.fit(method=method, n=80_000)\n",
    "    trace = mean_field.sample(5000)\n",
    "\n",
    "spline_rating.plot(trace)"
   ]
  },
  {
   "cell_type": "markdown",
   "id": "4373b929-605c-40e1-83ad-c182cba0e4e6",
   "metadata": {},
   "source": [
    "### Excercise \n",
    "Splines can give unexpectedly poor results.\n",
    "For example, try \n",
    "`sim_df.sample(n=30, random_state=771)`  "
   ]
  }
 ],
 "metadata": {
  "colab": {
   "name": "segmented_power_law_demo.ipynb",
   "provenance": []
  },
  "kernelspec": {
   "display_name": "ratingcurve-old",
   "language": "python",
   "name": "ratingcurve-old"
  },
  "language_info": {
   "codemirror_mode": {
    "name": "ipython",
    "version": 3
   },
   "file_extension": ".py",
   "mimetype": "text/x-python",
   "name": "python",
   "nbconvert_exporter": "python",
   "pygments_lexer": "ipython3",
   "version": "3.10.9"
  }
 },
 "nbformat": 4,
 "nbformat_minor": 5
}
