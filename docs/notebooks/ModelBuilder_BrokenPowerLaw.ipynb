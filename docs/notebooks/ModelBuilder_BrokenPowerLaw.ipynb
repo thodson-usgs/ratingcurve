{
 "cells": [
  {
   "cell_type": "markdown",
   "id": "67886c51-65e6-4c85-a3c8-dbb04c0dcb4c",
   "metadata": {},
   "source": [
    "## Broken Power Law Examples\n",
    "\n",
    "Below are a few examples of the broken power law rating curve implementation."
   ]
  },
  {
   "cell_type": "code",
   "execution_count": null,
   "id": "1913c6d4-c4b9-4f82-a8b4-3c81dc8cb6c1",
   "metadata": {},
   "outputs": [],
   "source": [
    "from numpy.typing import ArrayLike\n",
    "import numpy as np\n",
    "import matplotlib.pyplot as plt\n",
    "import arviz as az"
   ]
  },
  {
   "cell_type": "markdown",
   "id": "b0644585-97b2-426f-8222-563f311ccb5d",
   "metadata": {},
   "source": [
    "Equation for a broken power law with $n$ breaks is:\n",
    "\n",
    "\\begin{equation}\n",
    "f(x) = \\begin{cases}\n",
    "            Ax^{\\alpha_0} & {\\rm if}\\ x \\leq x_1 \\\\\n",
    "            Ax^{\\alpha_1}x_1^{\\alpha_0 - \\alpha_1} & {\\rm if}\\ x_1 < x \\leq x_2 \\\\\n",
    "            ... \\\\\n",
    "            Ax^{\\alpha_n} {\\displaystyle \\prod^{n}_{i=1}} x_i^{\\alpha_{i-1} - \\alpha_{i}} & {\\rm if}\\ x > x_n\n",
    "       \\end{cases},\n",
    "\\end{equation}\n",
    "\n",
    "where $A$ is the scaling amplitude, $\\alpha_0$ is the power law slope before the first breakpoint ($x_1$), $\\alpha_i$ are the power law slopes between breakpoints $x_{i}$ and $x_{i+1}$ with $i$ being the $i$th breakpoint and $i < n$, and $\\alpha_n$ is the power law slope after the last breakpoint ($x_n$).\n",
    "\n",
    "In log-space this translates to:\n",
    "\n",
    "\\begin{equation}\n",
    "\\log(f(x)) = \\begin{cases}\n",
    "            \\log(A) + \\alpha_0 \\log(x) & {\\rm if}\\ x \\leq x_1 \\\\\n",
    "            \\log(A) + \\alpha_1 \\log(x) + (\\alpha_0 - \\alpha_1) \\log(x_1) & {\\rm if}\\ x_1 < x \\leq x_2 \\\\\n",
    "            ... \\\\\n",
    "            \\log(A) + \\alpha_n \\log(x) + {\\displaystyle \\sum^{n}_{i=1}} (\\alpha_{i-1} - \\alpha_{i}) \\log(x_i) & {\\rm if}\\ x > x_n\n",
    "       \\end{cases}.\n",
    "\\end{equation}\n",
    "\n",
    "With $x_0$ offset:\n",
    "\n",
    "\\begin{equation}\n",
    "\\log(f(x)) = \\begin{cases}\n",
    "            \\log(A) + \\alpha_0 \\log(x - x_0) & {\\rm if}\\ x - x_0 \\leq x_1 \\\\\n",
    "            \\log(A) + \\alpha_1 \\log(x - x_0) + (\\alpha_0 - \\alpha_1) \\log(x_1) & {\\rm if}\\ x_1 < x - x_0 \\leq x_2 \\\\\n",
    "            ... \\\\\n",
    "            \\log(A) + \\alpha_n \\log(x - x_0) + {\\displaystyle \\sum^{n}_{i=1}} (\\alpha_{i-1} - \\alpha_{i}) \\log(x_i) & {\\rm if}\\ x - x_0 > x_n\n",
    "       \\end{cases}.\n",
    "\\end{equation}"
   ]
  },
  {
   "cell_type": "code",
   "execution_count": null,
   "id": "84ee6a74-3807-4fde-916a-55d420090a79",
   "metadata": {},
   "outputs": [],
   "source": [
    "def BrokenPowerLaw(x: ArrayLike, amplitude: float, breaks: ArrayLike, alphas: ArrayLike) -> np.ndarray:\n",
    "    x = np.array(x)\n",
    "    alphas_array = np.array(alphas)\n",
    "    breaks = np.array(breaks)\n",
    "    cumprod = np.cumprod((breaks[1:]) ** (alphas_array[:-1] - alphas_array[1:]))\n",
    "    # Product for first element is 1, as it does not have a product\n",
    "    cumprod = np.insert(cumprod, 0, 1).reshape((-1, 1))\n",
    "    # Create ranges for each segment\n",
    "    segments_range = np.insert((breaks[1:]), [0, len(breaks[1:])], [0.0, np.inf]).reshape((-1, 1))\n",
    "\n",
    "    # Arrays are broadcasts for vectorized computation. Calculates function within range sets value to 0 everywhere else. \n",
    "    #   Then sum along segment dimension to collapse.\n",
    "    fx = np.where(((x- breaks[0]) > segments_range[:-1]) & ((x- breaks[0]) <= segments_range[1:]), \n",
    "                  amplitude * (x- breaks[0]) ** alphas_array.reshape((-1, 1)) * cumprod, 0)\n",
    "    fx = fx.sum(axis=0)\n",
    "    \n",
    "    return fx"
   ]
  },
  {
   "cell_type": "markdown",
   "id": "178b1828-e2fd-4155-9944-9a8efbfbfe80",
   "metadata": {},
   "source": [
    "Now that we have created an equation function, let's generate some simulated data."
   ]
  },
  {
   "cell_type": "code",
   "execution_count": null,
   "id": "9dcb0806-b8f0-4e51-b582-2de7d959675f",
   "metadata": {},
   "outputs": [],
   "source": [
    "h = np.geomspace(3, 20, 201)\n",
    "a = 0.01\n",
    "breaks = [0, 7.0]\n",
    "alphas = [0.9, 2]\n",
    "q = BrokenPowerLaw(h, a, breaks, alphas)\n",
    "# Add some random noise in log space\n",
    "q = np.exp(np.log(q) + np.random.randn(len(q)) * 0.01)\n",
    "\n",
    "fig, ax = plt.subplots()\n",
    "ax.loglog(q, h, marker='o', linestyle='')\n",
    "ax.set(xlabel='Discharge', ylabel='Stage')\n",
    "plt.show"
   ]
  },
  {
   "cell_type": "markdown",
   "id": "e80ff30a-9e58-4d34-9e9b-35038e3c3ed4",
   "metadata": {},
   "source": [
    "Then fit the simulated data and plot the fits."
   ]
  },
  {
   "cell_type": "code",
   "execution_count": null,
   "id": "8879bb0b-967b-47b1-9068-1d06fe8ff6dc",
   "metadata": {},
   "outputs": [],
   "source": [
    "from ratingcurve.experimental_ratings import BrokenPowerLawRating\n",
    "\n",
    "# initialize the model\n",
    "# Default model configurations are okay, as we want uniform priors and 2 segments\n",
    "brokenpowerrating = BrokenPowerLawRating()\n",
    "brokenpowerrating.fit(h, q)\n",
    "data = brokenpowerrating.table()"
   ]
  },
  {
   "cell_type": "code",
   "execution_count": null,
   "id": "139f904d-c014-4f23-aa10-201f21309fd0",
   "metadata": {},
   "outputs": [],
   "source": [
    "fig, ax = plt.subplots()\n",
    "ax.loglog(q, h, marker='o', linestyle='', label='Data')\n",
    "ax.loglog(data['discharge'], data['stage'], label='Model Fit')\n",
    "ax.set(xlabel='Discharge', ylabel='Stage')\n",
    "plt.legend()\n",
    "plt.show"
   ]
  },
  {
   "cell_type": "code",
   "execution_count": null,
   "id": "ca6e6f3f-8dd5-46d1-8643-512e42ac28c6",
   "metadata": {},
   "outputs": [],
   "source": [
    "brokenpowerrating.plot()"
   ]
  },
  {
   "cell_type": "code",
   "execution_count": null,
   "id": "6c445400-4223-4315-8135-9711398e06e5",
   "metadata": {},
   "outputs": [],
   "source": [
    "brokenpowerrating.plot_residuals()"
   ]
  },
  {
   "cell_type": "code",
   "execution_count": null,
   "id": "11cb66f3-2bb5-4c6b-b6f2-045b662fe10a",
   "metadata": {},
   "outputs": [],
   "source": [
    "print('Break point expected values: '+str(breaks)+', Derived values: '\n",
    "      +str(brokenpowerrating.idata.posterior.hs.mean(dim=['draw']).values.squeeze())+' +/- '+str(brokenpowerrating.idata.posterior.hs.std(dim=['draw']).values.squeeze()))"
   ]
  },
  {
   "cell_type": "markdown",
   "id": "22bd4d39-526b-41ef-b3be-9c127b806541",
   "metadata": {},
   "source": [
    "Now let's test the model on some real data to see how it compares on something not generated by itself."
   ]
  },
  {
   "cell_type": "code",
   "execution_count": null,
   "id": "097953fd-e980-468a-bc6b-3dc61478fbcc",
   "metadata": {},
   "outputs": [],
   "source": [
    "from ratingcurve import data\n",
    "\n",
    "# load tutorial data\n",
    "df = data.load('green channel')\n",
    "\n",
    "fig, ax = plt.subplots()\n",
    "ax.errorbar(df['q'], df['stage'], xerr=df['q_sigma'], marker='o', linestyle='', fillstyle='none')\n",
    "ax.set(xlabel='Discharge', ylabel='Stage', xscale='log', yscale='log')\n",
    "plt.show"
   ]
  },
  {
   "cell_type": "code",
   "execution_count": null,
   "id": "732e6cb2-a88c-43bc-b3de-5e7b5d821390",
   "metadata": {},
   "outputs": [],
   "source": [
    "# initialize the model\n",
    "# Default model config is still good here\n",
    "brokenpowerrating_gc = BrokenPowerLawRating()\n",
    "brokenpowerrating_gc.fit(df['stage'], df['q'], df['q_sigma'], method='nuts')\n",
    "data_gc = brokenpowerrating_gc.table()"
   ]
  },
  {
   "cell_type": "markdown",
   "id": "1fb03185-3066-4c19-8d91-2cab03a1f195",
   "metadata": {},
   "source": [
    "Time to plot the results."
   ]
  },
  {
   "cell_type": "code",
   "execution_count": null,
   "id": "8cf0d2fc-65b8-4649-8ed8-9a6398a2f4b0",
   "metadata": {},
   "outputs": [],
   "source": [
    "fig, ax = plt.subplots()\n",
    "ax.errorbar(df['q'], df['stage'], xerr=df['q_sigma'], marker='o', linestyle='', fillstyle='none', label='Data')\n",
    "ax.loglog(data_gc['discharge'], data_gc['stage'], label='Smooth Model Fit')\n",
    "ax.set(xlabel='Discharge', ylabel='Stage', xscale='log', yscale='log')\n",
    "plt.legend()\n",
    "plt.show"
   ]
  },
  {
   "cell_type": "code",
   "execution_count": null,
   "id": "f5566ac6-2407-4185-9acf-b914d3b0c25c",
   "metadata": {},
   "outputs": [],
   "source": [
    "brokenpowerrating_gc.summary(var_names=['hs'])"
   ]
  },
  {
   "cell_type": "code",
   "execution_count": null,
   "id": "85604717-b8e5-4a71-90fb-5e7a92a490dd",
   "metadata": {},
   "outputs": [],
   "source": [
    "brokenpowerrating_gc.plot()"
   ]
  }
 ],
 "metadata": {
  "kernelspec": {
   "display_name": "Python 3 (ipykernel)",
   "language": "python",
   "name": "python3"
  },
  "language_info": {
   "codemirror_mode": {
    "name": "ipython",
    "version": 3
   },
   "file_extension": ".py",
   "mimetype": "text/x-python",
   "name": "python",
   "nbconvert_exporter": "python",
   "pygments_lexer": "ipython3",
   "version": "3.11.4"
  }
 },
 "nbformat": 4,
 "nbformat_minor": 5
}
