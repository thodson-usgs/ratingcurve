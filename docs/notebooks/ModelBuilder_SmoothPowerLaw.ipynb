{
 "cells": [
  {
   "cell_type": "markdown",
   "id": "67886c51-65e6-4c85-a3c8-dbb04c0dcb4c",
   "metadata": {},
   "source": [
    "## Smooth Power Law Examples\n",
    "\n",
    "Below are a few examples of the smoothly broken power law rating curve implementation."
   ]
  },
  {
   "cell_type": "code",
   "execution_count": null,
   "id": "1913c6d4-c4b9-4f82-a8b4-3c81dc8cb6c1",
   "metadata": {},
   "outputs": [],
   "source": [
    "from numpy.typing import ArrayLike\n",
    "import numpy as np\n",
    "import matplotlib.pyplot as plt\n",
    "import arviz as az\n",
    "\n",
    "import sys\n",
    "if \"../..\" not in sys.path:\n",
    "    sys.path.insert(0, \"../..\")"
   ]
  },
  {
   "cell_type": "markdown",
   "id": "b0644585-97b2-426f-8222-563f311ccb5d",
   "metadata": {},
   "source": [
    "Equation for a smoothly broken power law with $n$ breaks is:\n",
    "\n",
    "\\begin{equation}\n",
    "    f(x) = Ax^{\\alpha_0} {\\displaystyle \\prod^{n}_{i=1}} \\Bigg(1 + \\bigg(\\frac{x}{x_i}\\bigg)^{1/\\Delta}\\Bigg)^{(\\alpha_i - \\alpha_{i-1})\\Delta},\n",
    "\\end{equation}\n",
    "\n",
    "where $A$ is the scaling amplitude, $\\alpha_0$ is the power law slope before the first breakpoint ($x_1$), $\\alpha_i$ are the power law slopes between breakpoints $x_{i}$ and $x_{i+1}$ with $i$ being the $i$th breakpoint and $i < n$, $\\alpha_n$ is the power law slope after the last breakpoint ($x_n$), and $\\Delta$ is the parameter controlling the smoothness of the break. Smaller (non-negative) values of $\\Delta$ yield a sharper break, and larger values yield a smoother break.\n",
    "\n",
    "This equation was adapted from Equation 1 in [Caballero et al. 2023](https://arxiv.org/pdf/2210.14891.pdf).\n",
    "\n",
    "In log-space:\n",
    "\n",
    "\\begin{equation}\n",
    "    \\log(f(x)) = \\log(A) + \\alpha_0 \\log(x) + {\\displaystyle \\sum^{n}_{i=1}} (\\alpha_i - \\alpha_{i-1})\\Delta \\Bigg(1 + \\bigg(\\frac{x}{x_i}\\bigg)^{1/\\Delta}\\Bigg),\n",
    "\\end{equation}\n",
    "\n",
    "With $x_0$ offset:\n",
    "\n",
    "\\begin{equation}\n",
    "    \\log(f(x)) = \\log(A) + \\alpha_0 \\log(x - x_0) + {\\displaystyle \\sum^{n}_{i=1}} (\\alpha_i - \\alpha_{i-1})\\Delta \\Bigg(1 + \\bigg(\\frac{x - x_0}{x_i}\\bigg)^{1/\\Delta}\\Bigg),\n",
    "\\end{equation}"
   ]
  },
  {
   "cell_type": "code",
   "execution_count": null,
   "id": "84ee6a74-3807-4fde-916a-55d420090a79",
   "metadata": {},
   "outputs": [],
   "source": [
    "def SmoothlyBrokenPowerLaw(x: ArrayLike, amplitude: float, breaks: ArrayLike, alphas: ArrayLike, delta: float) -> np.ndarray:\n",
    "    breakpoint_array = np.expand_dims(breaks, 0)\n",
    "    alphas_array = np.array(alphas)\n",
    "    alphas_diff_array = np.expand_dims(alphas_array[1:] - alphas_array[:-1], 0)\n",
    "    x_array = np.expand_dims(x, 1)\n",
    "    prod_array = (1 + ((x_array - breakpoint_array[0, 0])/breakpoint_array[:, 1:]) ** (1/delta)) ** (alphas_diff_array * delta)\n",
    "    fx = amplitude * (x - breakpoint_array[0, 0]) ** alphas[0] * np.prod(prod_array, axis=1)\n",
    "    return fx"
   ]
  },
  {
   "cell_type": "markdown",
   "id": "178b1828-e2fd-4155-9944-9a8efbfbfe80",
   "metadata": {},
   "source": [
    "Now that we have created an equation function, let's generate some simulated data."
   ]
  },
  {
   "cell_type": "code",
   "execution_count": null,
   "id": "9dcb0806-b8f0-4e51-b582-2de7d959675f",
   "metadata": {},
   "outputs": [],
   "source": [
    "h = np.geomspace(3, 20, 200)\n",
    "a = 0.01\n",
    "delta = 0.05\n",
    "breaks = [0, 7.]\n",
    "alphas = [0.9, 2]\n",
    "q = SmoothlyBrokenPowerLaw(h, a, breaks, alphas, delta)\n",
    "# Add some random noise in log space\n",
    "q = np.exp(np.log(q) + np.random.randn(len(q)) * 0.01)\n",
    "\n",
    "fig, ax = plt.subplots()\n",
    "ax.loglog(q, h, marker='o', linestyle='')\n",
    "ax.set(xlabel='Discharge', ylabel='Stage')\n",
    "plt.show"
   ]
  },
  {
   "cell_type": "markdown",
   "id": "e80ff30a-9e58-4d34-9e9b-35038e3c3ed4",
   "metadata": {},
   "source": [
    "Then fit the simulated data and plot the fits."
   ]
  },
  {
   "cell_type": "code",
   "execution_count": null,
   "id": "8879bb0b-967b-47b1-9068-1d06fe8ff6dc",
   "metadata": {},
   "outputs": [],
   "source": [
    "from ratingcurve.experimental_ratings import SmoothlyBrokenPowerLawRating\n",
    "\n",
    "# initialize the model\n",
    "# Default model configurations are okay, as we want uniform priors and 2 segments\n",
    "smoothpowerrating = SmoothlyBrokenPowerLawRating()\n",
    "smoothpowerrating.fit(h, q, method='nuts')\n",
    "data = smoothpowerrating.table()"
   ]
  },
  {
   "cell_type": "code",
   "execution_count": null,
   "id": "139f904d-c014-4f23-aa10-201f21309fd0",
   "metadata": {},
   "outputs": [],
   "source": [
    "fig, ax = plt.subplots()\n",
    "ax.loglog(q, h, marker='o', linestyle='', label='Data')\n",
    "ax.loglog(data['discharge'], data['stage'], label='Model Fit')\n",
    "ax.set(xlabel='Discharge', ylabel='Stage')\n",
    "plt.legend()\n",
    "plt.show"
   ]
  },
  {
   "cell_type": "code",
   "execution_count": null,
   "id": "ca6e6f3f-8dd5-46d1-8643-512e42ac28c6",
   "metadata": {},
   "outputs": [],
   "source": [
    "smoothpowerrating.plot()"
   ]
  },
  {
   "cell_type": "code",
   "execution_count": null,
   "id": "d8ec331d-88e4-40d2-8b0f-07dead488543",
   "metadata": {},
   "outputs": [],
   "source": [
    "smoothpowerrating.plot_residuals()"
   ]
  },
  {
   "cell_type": "markdown",
   "id": "993fbb92-e944-4304-b50a-1b397cbcf9cb",
   "metadata": {},
   "source": [
    "So, the fit looks good compared to the data. Let's also check the derived values."
   ]
  },
  {
   "cell_type": "code",
   "execution_count": null,
   "id": "11cb66f3-2bb5-4c6b-b6f2-045b662fe10a",
   "metadata": {},
   "outputs": [],
   "source": [
    "print('Break point expected values: '+str(breaks)+', Derived values: '\n",
    "      +str(smoothpowerrating.idata.posterior.hs.mean(dim=['draw', 'chain']).values.squeeze())+' +/- '+str(smoothpowerrating.idata.posterior.hs.std(dim=['draw', 'chain']).values.squeeze()))\n",
    "print('Smoothness parameter expected values: '+str(delta)+', Derived values: '\n",
    "      +str(smoothpowerrating.idata.posterior.delta.mean(dim=['draw', 'chain']).values.squeeze())+' +/- '+str(smoothpowerrating.idata.posterior.delta.std(dim=['draw', 'chain']).values.squeeze()))"
   ]
  },
  {
   "cell_type": "markdown",
   "id": "22bd4d39-526b-41ef-b3be-9c127b806541",
   "metadata": {},
   "source": [
    "Now let's test the model on some real data to see how it compares on something not generated by itself."
   ]
  },
  {
   "cell_type": "code",
   "execution_count": null,
   "id": "097953fd-e980-468a-bc6b-3dc61478fbcc",
   "metadata": {},
   "outputs": [],
   "source": [
    "from ratingcurve import data\n",
    "\n",
    "# load tutorial data\n",
    "df = data.load('green channel')\n",
    "\n",
    "fig, ax = plt.subplots()\n",
    "ax.errorbar(df['q'], df['stage'], xerr=df['q_sigma'], marker='o', linestyle='', fillstyle='none')\n",
    "ax.set(xlabel='Discharge', ylabel='Stage', xscale='log', yscale='log')\n",
    "plt.show"
   ]
  },
  {
   "cell_type": "code",
   "execution_count": null,
   "id": "732e6cb2-a88c-43bc-b3de-5e7b5d821390",
   "metadata": {},
   "outputs": [],
   "source": [
    "# initialize the model\n",
    "# Again we only need 2 segments (the default)\n",
    "smoothpowerrating_gc = SmoothlyBrokenPowerLawRating()\n",
    "smoothpowerrating_gc.fit(df['stage'], df['q'], q_sigma=df['q_sigma'], method='nuts')\n",
    "data_gc = smoothpowerrating_gc.table()"
   ]
  },
  {
   "cell_type": "code",
   "execution_count": null,
   "id": "8cf0d2fc-65b8-4649-8ed8-9a6398a2f4b0",
   "metadata": {},
   "outputs": [],
   "source": [
    "fig, ax = plt.subplots()\n",
    "ax.errorbar(df['q'], df['stage'], xerr=df['q_sigma'], marker='o', linestyle='', fillstyle='none', label='Data')\n",
    "ax.loglog(data_gc['discharge'], data_gc['stage'], label='Smooth Model Fit')\n",
    "ax.set(xlabel='Discharge', ylabel='Stage', xscale='log', yscale='log')\n",
    "plt.legend()\n",
    "plt.show"
   ]
  },
  {
   "cell_type": "code",
   "execution_count": null,
   "id": "f5566ac6-2407-4185-9acf-b914d3b0c25c",
   "metadata": {},
   "outputs": [],
   "source": [
    "smoothpowerrating_gc.summary(var_names=['hs', 'delta'])"
   ]
  },
  {
   "cell_type": "code",
   "execution_count": null,
   "id": "85604717-b8e5-4a71-90fb-5e7a92a490dd",
   "metadata": {},
   "outputs": [],
   "source": [
    "smoothpowerrating_gc.plot()"
   ]
  }
 ],
 "metadata": {
  "kernelspec": {
   "display_name": "Python 3 (ipykernel)",
   "language": "python",
   "name": "python3"
  },
  "language_info": {
   "codemirror_mode": {
    "name": "ipython",
    "version": 3
   },
   "file_extension": ".py",
   "mimetype": "text/x-python",
   "name": "python",
   "nbconvert_exporter": "python",
   "pygments_lexer": "ipython3",
   "version": "3.11.4"
  }
 },
 "nbformat": 4,
 "nbformat_minor": 5
}
