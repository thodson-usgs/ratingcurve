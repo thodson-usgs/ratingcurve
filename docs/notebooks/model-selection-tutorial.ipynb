{
 "cells": [
  {
   "cell_type": "markdown",
   "metadata": {},
   "source": [
    "# Model selection\n",
    "Perhaps we do not know the number of segments in a rating or that a power law is better than another type of model.\n",
    "In these situations, we want to compare the performance of one model against another, \n",
    "then select whichever models gives the best fit for the data.\n",
    "More specifically, we want to know the generalization performance of each model,\n",
    "which refers to their performance on new (out-of-sample) data.\n",
    "\n",
    "One way to estimate generalization performance is cross validation, but it can be costly.\n",
    "In cross validation, a portion of the data is held out. \n",
    "If you don't have a lot of data to begin with,\n",
    "holding out a portion can substantially degrade model fit.\n",
    "\n",
    "An alternative approach is to use information criteria,\n",
    "which are measures that use in-sample data to estimate out-of-sample performance.\n",
    "\n",
    "In this tutorial, we demonstrate how to select the number of segments in the Green River rating.\n",
    "We fit the rating with 1, 2, 3, and 4 segments, then use information criteria to select the number of segments that gives the best fit."
   ]
  },
  {
   "cell_type": "code",
   "execution_count": null,
   "metadata": {},
   "outputs": [],
   "source": [
    "## Load the data\n",
    "from ratingcurve import data\n",
    "%load_ext autoreload\n",
    "%autoreload 2\n",
    "%xmode minimal\n",
    "#suppress warnings and errors\n",
    "\n",
    "import pymc as pm\n",
    "import arviz as az\n",
    "from ratingcurve.ratings import PowerLawRating\n",
    "\n",
    "from ratingcurve import data\n",
    "\n",
    "df = data.load('green channel')"
   ]
  },
  {
   "cell_type": "markdown",
   "metadata": {},
   "source": [
    "## Fit the data\n",
    "Fit the data to ratings with 1 to 4 segments."
   ]
  },
  {
   "cell_type": "code",
   "execution_count": null,
   "metadata": {},
   "outputs": [],
   "source": [
    "%%capture\n",
    "# Output supressed, this will print \"Finished\" after running each of the four models\n",
    "\n",
    "segments = [1, 2, 3, 4]\n",
    "traces = []\n",
    "for segment in segments:\n",
    "    powerrating = PowerLawRating(segments=segment,\n",
    "                                 prior={'distribution':'uniform'})\n",
    "\n",
    "    trace = powerrating.fit(q=df['q'],\n",
    "                            h=df['stage'], \n",
    "                            q_sigma=df['q_sigma'],\n",
    "                            n=100_000)\n",
    "    \n",
    "    traces.append(pm.compute_log_likelihood(trace, model=powerrating.model)) # Add arg to compute log likelihood"
   ]
  },
  {
   "cell_type": "markdown",
   "metadata": {},
   "source": [
    "Now use `arviz.compare` to format the output."
   ]
  },
  {
   "cell_type": "code",
   "execution_count": null,
   "metadata": {},
   "outputs": [],
   "source": [
    "# this model will generate warnings about the LOO\n",
    "import warnings; warnings.filterwarnings('ignore')\n",
    "\n",
    "compare_dict = {f'{i} segment': traces[i-1] for i in segments}\n",
    "az.compare(compare_dict, ic='LOO')"
   ]
  },
  {
   "cell_type": "markdown",
   "metadata": {},
   "source": [
    "As expected, the 2-segment model ranked highest."
   ]
  },
  {
   "cell_type": "markdown",
   "metadata": {},
   "source": [
    "## Residual analysis\n",
    "In practice, it can be helpful to plot to rating error\n",
    "(the deviations between the rating fit and the discharge observations).\n",
    "Here is a demonstration of how."
   ]
  },
  {
   "cell_type": "code",
   "execution_count": null,
   "metadata": {},
   "outputs": [],
   "source": [
    "segments = 2\n",
    "\n",
    "powerrating = PowerLawRating(segments=2,\n",
    "                             prior={'distribution':'uniform'})\n",
    "\n",
    "trace = powerrating.fit(q=df['q'],\n",
    "                        h=df['stage'], \n",
    "                        q_sigma=df['q_sigma'])"
   ]
  },
  {
   "cell_type": "code",
   "execution_count": null,
   "metadata": {},
   "outputs": [],
   "source": [
    "import matplotlib.pyplot as plt\n",
    "\n",
    "fig, ax = plt.subplots(1, 2, figsize=(7,7), sharey=True)\n",
    "\n",
    "powerrating.plot(ax[0])\n",
    "powerrating.plot_residuals(ax[1])\n",
    "\n",
    "\n",
    "plt.subplots_adjust(wspace=0.1)\n",
    "ax[1].set_ylabel('')"
   ]
  },
  {
   "cell_type": "code",
   "execution_count": null,
   "metadata": {},
   "outputs": [],
   "source": [
    "%load_ext watermark\n",
    "%watermark -n -u -v -iv -w -p pytensor,xarray"
   ]
  }
 ],
 "metadata": {
  "kernelspec": {
   "display_name": "Python 3 (ipykernel)",
   "language": "python",
   "name": "python3"
  },
  "language_info": {
   "codemirror_mode": {
    "name": "ipython",
    "version": 3
   },
   "file_extension": ".py",
   "mimetype": "text/x-python",
   "name": "python",
   "nbconvert_exporter": "python",
   "pygments_lexer": "ipython3",
   "version": "3.10.12"
  }
 },
 "nbformat": 4,
 "nbformat_minor": 4
}
