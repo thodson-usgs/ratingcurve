{
 "cells": [
  {
   "cell_type": "markdown",
   "metadata": {},
   "source": [
    "# Model selection\n",
    "Perhaps we do not know the number of segments in a rating or that a power law is better than another type of model.\n",
    "In these situations, we want to compare the performance of one model against another, \n",
    "then select whichever models gives the best fit for the data.\n",
    "More specifically, we want to know the generalization performance of each model,\n",
    "which refers to their performance on new (out-of-sample) data.\n",
    "\n",
    "One way to estimate generalization performance is cross validation, but it can be costly.\n",
    "In cross validation, a portion of the data is held out. \n",
    "If you don't have a lot of data to begin with,\n",
    "holding out a portion can substantially degrade model fit.\n",
    "\n",
    "An alternative approach is to use information criteria,\n",
    "which are measures that use in-sample data to estimate out-of-sample performance.\n",
    "\n",
    "In this tutorial, we demonstrate how to select the number of segments in the Green River rating.\n",
    "We fit the rating with 1, 2, 3, and 4 segments, then use information criteria to select the number of segments that gives the best fit."
   ]
  },
  {
   "cell_type": "code",
   "execution_count": 3,
   "metadata": {},
   "outputs": [
    {
     "name": "stdout",
     "output_type": "stream",
     "text": [
      "The autoreload extension is already loaded. To reload it, use:\n",
      "  %reload_ext autoreload\n",
      "Exception reporting mode: Minimal\n"
     ]
    }
   ],
   "source": [
    "## Load the data\n",
    "from ratingcurve import data\n",
    "%load_ext autoreload\n",
    "%autoreload 2\n",
    "%xmode minimal\n",
    "#suppress warnings and errors\n",
    "\n",
    "import pymc as pm\n",
    "import arviz as az\n",
    "from ratingcurve.ratings import PowerLawRating\n",
    "\n",
    "from ratingcurve import data\n",
    "\n",
    "df = data.load('green channel')"
   ]
  },
  {
   "cell_type": "markdown",
   "metadata": {},
   "source": [
    "## Fit the data\n",
    "Fit the data to ratings with 1 to 4 segments."
   ]
  },
  {
   "cell_type": "code",
   "execution_count": 13,
   "metadata": {},
   "outputs": [
    {
     "name": "stderr",
     "output_type": "stream",
     "text": [
      "Convergence achieved at 44800\n",
      "Interrupted at 44,799 [44%]: Average Loss = 103.01\n",
      "Sampling: [a, b, hs_, model_q, sigma]\n",
      "Sampling: [model_q]\n",
      "Convergence achieved at 74500\n",
      "Interrupted at 74,499 [74%]: Average Loss = 59.073\n",
      "Sampling: [a, b, hs_, model_q, sigma]\n",
      "Sampling: [model_q]\n",
      "Finished [100%]: Average Loss = -48.248\n",
      "Sampling: [a, b, hs_, model_q, sigma]\n",
      "Sampling: [model_q]\n",
      "Finished [100%]: Average Loss = -44.213\n",
      "Sampling: [a, b, hs_, model_q, sigma]\n",
      "Sampling: [model_q]\n"
     ]
    }
   ],
   "source": [
    "%%capture\n",
    "# Output supressed, this will print \"Finished\" after running each of the four models\n",
    "\n",
    "segments = [1, 2, 3, 4]\n",
    "traces = []\n",
    "for segment in segments:\n",
    "    powerrating = PowerLawRating(segments=segment,\n",
    "                                 prior={'distribution':'uniform'})\n",
    "\n",
    "    trace = powerrating.fit(q=df['q'],\n",
    "                            h=df['stage'], \n",
    "                            q_sigma=df['q_sigma'],\n",
    "                            n=100_000)\n",
    "    \n",
    "    traces.append(pm.compute_log_likelihood(trace, model=powerrating.model)) # Add arg to compute log likelihood"
   ]
  },
  {
   "cell_type": "markdown",
   "metadata": {},
   "source": [
    "Now use `arviz.compare` to format the output."
   ]
  },
  {
   "cell_type": "code",
   "execution_count": 14,
   "metadata": {},
   "outputs": [
    {
     "data": {
      "text/html": [
       "<div>\n",
       "<style scoped>\n",
       "    .dataframe tbody tr th:only-of-type {\n",
       "        vertical-align: middle;\n",
       "    }\n",
       "\n",
       "    .dataframe tbody tr th {\n",
       "        vertical-align: top;\n",
       "    }\n",
       "\n",
       "    .dataframe thead th {\n",
       "        text-align: right;\n",
       "    }\n",
       "</style>\n",
       "<table border=\"1\" class=\"dataframe\">\n",
       "  <thead>\n",
       "    <tr style=\"text-align: right;\">\n",
       "      <th></th>\n",
       "      <th>rank</th>\n",
       "      <th>elpd_loo</th>\n",
       "      <th>p_loo</th>\n",
       "      <th>elpd_diff</th>\n",
       "      <th>weight</th>\n",
       "      <th>se</th>\n",
       "      <th>dse</th>\n",
       "      <th>warning</th>\n",
       "      <th>scale</th>\n",
       "    </tr>\n",
       "  </thead>\n",
       "  <tbody>\n",
       "    <tr>\n",
       "      <th>2 segment</th>\n",
       "      <td>0</td>\n",
       "      <td>73.495791</td>\n",
       "      <td>5.909181</td>\n",
       "      <td>0.000000</td>\n",
       "      <td>1.000000e+00</td>\n",
       "      <td>3.276638</td>\n",
       "      <td>0.000000</td>\n",
       "      <td>True</td>\n",
       "      <td>log</td>\n",
       "    </tr>\n",
       "    <tr>\n",
       "      <th>3 segment</th>\n",
       "      <td>1</td>\n",
       "      <td>67.650866</td>\n",
       "      <td>11.842002</td>\n",
       "      <td>5.844925</td>\n",
       "      <td>9.290346e-13</td>\n",
       "      <td>6.701047</td>\n",
       "      <td>5.601992</td>\n",
       "      <td>True</td>\n",
       "      <td>log</td>\n",
       "    </tr>\n",
       "    <tr>\n",
       "      <th>4 segment</th>\n",
       "      <td>2</td>\n",
       "      <td>57.947926</td>\n",
       "      <td>21.062821</td>\n",
       "      <td>15.547865</td>\n",
       "      <td>7.531753e-13</td>\n",
       "      <td>13.942271</td>\n",
       "      <td>13.358029</td>\n",
       "      <td>True</td>\n",
       "      <td>log</td>\n",
       "    </tr>\n",
       "    <tr>\n",
       "      <th>1 segment</th>\n",
       "      <td>3</td>\n",
       "      <td>53.784628</td>\n",
       "      <td>3.798565</td>\n",
       "      <td>19.711163</td>\n",
       "      <td>0.000000e+00</td>\n",
       "      <td>3.277936</td>\n",
       "      <td>4.363762</td>\n",
       "      <td>False</td>\n",
       "      <td>log</td>\n",
       "    </tr>\n",
       "  </tbody>\n",
       "</table>\n",
       "</div>"
      ],
      "text/plain": [
       "           rank   elpd_loo      p_loo  elpd_diff        weight         se  \\\n",
       "2 segment     0  73.495791   5.909181   0.000000  1.000000e+00   3.276638   \n",
       "3 segment     1  67.650866  11.842002   5.844925  9.290346e-13   6.701047   \n",
       "4 segment     2  57.947926  21.062821  15.547865  7.531753e-13  13.942271   \n",
       "1 segment     3  53.784628   3.798565  19.711163  0.000000e+00   3.277936   \n",
       "\n",
       "                 dse  warning scale  \n",
       "2 segment   0.000000     True   log  \n",
       "3 segment   5.601992     True   log  \n",
       "4 segment  13.358029     True   log  \n",
       "1 segment   4.363762    False   log  "
      ]
     },
     "execution_count": 14,
     "metadata": {},
     "output_type": "execute_result"
    }
   ],
   "source": [
    "# this model will generate warnings about the LOO\n",
    "import warnings; warnings.filterwarnings('ignore')\n",
    "\n",
    "compare_dict = {f'{i} segment': traces[i-1] for i in segments}\n",
    "az.compare(compare_dict, ic='LOO')"
   ]
  },
  {
   "cell_type": "markdown",
   "metadata": {},
   "source": [
    "As expected, the 2-segment model ranked highest."
   ]
  },
  {
   "cell_type": "markdown",
   "metadata": {},
   "source": [
    "## Residual analysis\n",
    "In practice, it can be helpful to plot to rating error\n",
    "(the deviations between the rating fit and the discharge observations).\n",
    "Here is a demonstration of how."
   ]
  },
  {
   "cell_type": "code",
   "execution_count": 15,
   "metadata": {},
   "outputs": [
    {
     "data": {
      "text/html": [
       "\n",
       "<style>\n",
       "    /* Turns off some styling */\n",
       "    progress {\n",
       "        /* gets rid of default border in Firefox and Opera. */\n",
       "        border: none;\n",
       "        /* Needs to be in here for Safari polyfill so background images work as expected. */\n",
       "        background-size: auto;\n",
       "    }\n",
       "    progress:not([value]), progress:not([value])::-webkit-progress-bar {\n",
       "        background: repeating-linear-gradient(45deg, #7e7e7e, #7e7e7e 10px, #5c5c5c 10px, #5c5c5c 20px);\n",
       "    }\n",
       "    .progress-bar-interrupted, .progress-bar-interrupted::-webkit-progress-bar {\n",
       "        background: #F44336;\n",
       "    }\n",
       "</style>\n"
      ],
      "text/plain": [
       "<IPython.core.display.HTML object>"
      ]
     },
     "metadata": {},
     "output_type": "display_data"
    },
    {
     "data": {
      "text/html": [
       "\n",
       "    <div>\n",
       "      <progress value='200000' class='' max='200000' style='width:300px; height:20px; vertical-align: middle;'></progress>\n",
       "      100.00% [200000/200000 00:22&lt;00:00 Average Loss = -51.651]\n",
       "    </div>\n",
       "    "
      ],
      "text/plain": [
       "<IPython.core.display.HTML object>"
      ]
     },
     "metadata": {},
     "output_type": "display_data"
    },
    {
     "name": "stderr",
     "output_type": "stream",
     "text": [
      "Finished [100%]: Average Loss = -51.655\n",
      "Sampling: [a, b, hs_, model_q, sigma]\n",
      "Sampling: [model_q]\n"
     ]
    },
    {
     "data": {
      "text/html": [
       "\n",
       "<style>\n",
       "    /* Turns off some styling */\n",
       "    progress {\n",
       "        /* gets rid of default border in Firefox and Opera. */\n",
       "        border: none;\n",
       "        /* Needs to be in here for Safari polyfill so background images work as expected. */\n",
       "        background-size: auto;\n",
       "    }\n",
       "    progress:not([value]), progress:not([value])::-webkit-progress-bar {\n",
       "        background: repeating-linear-gradient(45deg, #7e7e7e, #7e7e7e 10px, #5c5c5c 10px, #5c5c5c 20px);\n",
       "    }\n",
       "    .progress-bar-interrupted, .progress-bar-interrupted::-webkit-progress-bar {\n",
       "        background: #F44336;\n",
       "    }\n",
       "</style>\n"
      ],
      "text/plain": [
       "<IPython.core.display.HTML object>"
      ]
     },
     "metadata": {},
     "output_type": "display_data"
    },
    {
     "data": {
      "text/html": [
       "\n",
       "    <div>\n",
       "      <progress value='10000' class='' max='10000' style='width:300px; height:20px; vertical-align: middle;'></progress>\n",
       "      100.00% [10000/10000 00:00&lt;00:00]\n",
       "    </div>\n",
       "    "
      ],
      "text/plain": [
       "<IPython.core.display.HTML object>"
      ]
     },
     "metadata": {},
     "output_type": "display_data"
    }
   ],
   "source": [
    "segments = 2\n",
    "\n",
    "powerrating = PowerLawRating(segments=2,\n",
    "                             prior={'distribution':'uniform'})\n",
    "\n",
    "trace = powerrating.fit(q=df['q'],\n",
    "                        h=df['stage'], \n",
    "                        q_sigma=df['q_sigma'])"
   ]
  },
  {
   "cell_type": "code",
   "execution_count": 18,
   "metadata": {},
   "outputs": [
    {
     "ename": "RuntimeError",
     "evalue": "The model hasn't been fit yet, call .fit().",
     "output_type": "error",
     "traceback": [
      "\u001b[0;31mRuntimeError\u001b[0m\u001b[0;31m:\u001b[0m The model hasn't been fit yet, call .fit().\n"
     ]
    },
    {
     "data": {
      "image/png": "[encoded data removed]",
      "text/plain": [
       "<Figure size 700x700 with 2 Axes>"
      ]
     },
     "metadata": {},
     "output_type": "display_data"
    }
   ],
   "source": [
    "import matplotlib.pyplot as plt\n",
    "\n",
    "fig, ax = plt.subplots(1, 2, figsize=(7,7), sharey=True)\n",
    "\n",
    "powerrating.plot(ax[0])\n",
    "powerrating.plot_residuals(ax[1])\n",
    "\n",
    "\n",
    "plt.subplots_adjust(wspace=0.1)\n",
    "ax[1].set_ylabel('')"
   ]
  },
  {
   "cell_type": "code",
   "execution_count": null,
   "metadata": {},
   "outputs": [],
   "source": [
    "%load_ext watermark\n",
    "%watermark -n -u -v -iv -w -p pytensor,xarray"
   ]
  }
 ],
 "metadata": {
  "kernelspec": {
   "display_name": "ratingcurve-dev",
   "language": "python",
   "name": "ratingcurve-dev"
  },
  "language_info": {
   "codemirror_mode": {
    "name": "ipython",
    "version": 3
   },
   "file_extension": ".py",
   "mimetype": "text/x-python",
   "name": "python",
   "nbconvert_exporter": "python",
   "pygments_lexer": "ipython3",
   "version": "3.11.6"
  }
 },
 "nbformat": 4,
 "nbformat_minor": 4
}
